{
  "nbformat": 4,
  "nbformat_minor": 0,
  "metadata": {
    "colab": {
      "provenance": []
    },
    "kernelspec": {
      "name": "python3",
      "display_name": "Python 3"
    },
    "language_info": {
      "name": "python"
    }
  },
  "cells": [
    {
      "cell_type": "code",
      "execution_count": null,
      "metadata": {
        "colab": {
          "base_uri": "https://localhost:8080/"
        },
        "id": "Xu4ahF1EGCDJ",
        "outputId": "5d93a6ae-77ab-474b-c132-43dd194a980f"
      },
      "outputs": [
        {
          "output_type": "stream",
          "name": "stdout",
          "text": [
            "1320.0円\n"
          ]
        }
      ],
      "source": [
        "def calcurate_total(price,shopping_fee):\n",
        "     total = price + shopping_fee\n",
        "     print(f\"{total}円\")\n",
        "calcurate_total(1200,1200 * 0.1);"
      ]
    }
  ]
}
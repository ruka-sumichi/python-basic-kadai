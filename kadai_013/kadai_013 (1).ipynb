{
  "nbformat": 4,
  "nbformat_minor": 0,
  "metadata": {
    "colab": {
      "provenance": []
    },
    "kernelspec": {
      "name": "python3",
      "display_name": "Python 3"
    },
    "language_info": {
      "name": "python"
    }
  },
  "cells": [
    {
      "cell_type": "code",
      "execution_count": 9,
      "metadata": {
        "colab": {
          "base_uri": "https://localhost:8080/"
        },
        "id": "Xu4ahF1EGCDJ",
        "outputId": "a1e1664d-ae79-479b-ecc3-dd6476ae3afd"
      },
      "outputs": [
        {
          "output_type": "stream",
          "name": "stdout",
          "text": [
            "1320.0円\n"
          ]
        }
      ],
      "source": [
        "def calcurate_total(price,tax=0.1):\n",
        "     total = price * (1 + tax)\n",
        "     return total\n",
        "\n",
        "price = (1200)\n",
        "total = calcurate_total(price)\n",
        "print(f\"{total}円\")"
      ]
    }
  ]
}
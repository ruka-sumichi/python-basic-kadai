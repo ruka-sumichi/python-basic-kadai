{
  "nbformat": 4,
  "nbformat_minor": 0,
  "metadata": {
    "colab": {
      "provenance": []
    },
    "kernelspec": {
      "name": "python3",
      "display_name": "Python 3"
    },
    "language_info": {
      "name": "python"
    }
  },
  "cells": [
    {
      "cell_type": "code",
      "source": [
        "def calculate_total(price, tax):\n",
        "    tax_amount = price * tax / 100\n",
        "    total = price + tax_amount\n",
        "    return f\"{total}円\"\n",
        "\n",
        "print(calculate_total(1000, 10))"
      ],
      "metadata": {
        "colab": {
          "base_uri": "https://localhost:8080/"
        },
        "id": "_Up2iFhBNO0U",
        "outputId": "8a89d9fa-2152-4c5d-9680-d3beb3edd046"
      },
      "execution_count": 9,
      "outputs": [
        {
          "output_type": "stream",
          "name": "stdout",
          "text": [
            "1100.0円\n"
          ]
        }
      ]
    }
  ]
}
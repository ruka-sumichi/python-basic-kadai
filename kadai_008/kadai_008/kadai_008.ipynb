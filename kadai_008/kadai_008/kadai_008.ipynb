{
  "nbformat": 4,
  "nbformat_minor": 0,
  "metadata": {
    "colab": {
      "provenance": []
    },
    "kernelspec": {
      "name": "python3",
      "display_name": "Python 3"
    },
    "language_info": {
      "name": "python"
    }
  },
  "cells": [
    {
      "cell_type": "code",
      "execution_count": 95,
      "metadata": {
        "colab": {
          "base_uri": "https://localhost:8080/"
        },
        "id": "4bOL41SqiHP-",
        "outputId": "10458b5c-a662-4a19-da06-e950ef296cc8"
      },
      "outputs": [
        {
          "output_type": "stream",
          "name": "stdout",
          "text": [
            "10\n",
            "FizzBuzz\n"
          ]
        }
      ],
      "source": [
        "import random\n",
        "var = random.randint(0,15)\n",
        "print(var)\n",
        "\n",
        "if var % 3 and var % 5 == 0:\n",
        "    print(\"FizzBuzz\")\n",
        "\n",
        "elif var % 3 == 0:\n",
        "    print(\"Fizz\")\n",
        "\n",
        "elif var % 5 == 0:\n",
        "    print(\"Buzz\")\n",
        "\n",
        "else:\n",
        "    print(var)"
      ]
    }
  ]
}
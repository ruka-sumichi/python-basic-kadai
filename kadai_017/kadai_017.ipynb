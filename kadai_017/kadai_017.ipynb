{
  "nbformat": 4,
  "nbformat_minor": 0,
  "metadata": {
    "colab": {
      "provenance": []
    },
    "kernelspec": {
      "name": "python3",
      "display_name": "Python 3"
    },
    "language_info": {
      "name": "python"
    }
  },
  "cells": [
    {
      "cell_type": "code",
      "source": [
        "class Human:\n",
        "     def __init__(self, name, age):\n",
        "         self.name = name\n",
        "         self.age = age\n",
        "\n",
        "     def check_adult(self):\n",
        "         if self.age >= 20:\n",
        "             print(\"あなたは大人です。\")\n",
        "         else:\n",
        "             print(\"あなたは大人ではありません。\")\n",
        "\n",
        "people = [Human(\"Samurai\", 36), Human(\"Tarou\", 19), Human(\"Hanako\", 18), Human(\"Terakoya\", 25)]\n",
        "\n",
        "for person in people:\n",
        "    print(person.name)\n",
        "    person.check_adult()\n"
      ],
      "metadata": {
        "colab": {
          "base_uri": "https://localhost:8080/"
        },
        "id": "sZz2s0rM_6uk",
        "outputId": "5ce56daf-a097-49a2-ef6b-934be2b1bce5"
      },
      "execution_count": 11,
      "outputs": [
        {
          "output_type": "stream",
          "name": "stdout",
          "text": [
            "Samurai\n",
            "あなたは大人です。\n",
            "Tarou\n",
            "あなたは大人ではありません。\n",
            "Hanako\n",
            "あなたは大人ではありません。\n",
            "Terakoya\n",
            "あなたは大人です。\n"
          ]
        }
      ]
    }
  ]
}